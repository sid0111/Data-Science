{
 "cells": [
  {
   "cell_type": "markdown",
   "id": "d8545f5a-4466-45aa-827a-ba012b06243f",
   "metadata": {},
   "source": [
    "# Getting Data From Site"
   ]
  },
  {
   "cell_type": "code",
   "execution_count": 1,
   "id": "b8607eda-a702-4b61-8621-c66ef90aa74f",
   "metadata": {},
   "outputs": [],
   "source": [
    "import requests"
   ]
  },
  {
   "cell_type": "code",
   "execution_count": 3,
   "id": "d60d3430-4e25-4227-aad3-76c6311bc963",
   "metadata": {},
   "outputs": [
    {
     "name": "stdout",
     "output_type": "stream",
     "text": [
      "Sucess!\n"
     ]
    }
   ],
   "source": [
    "res = requests.get(\"https://realpython.github.io/fake-jobs/\")\n",
    "\n",
    "if(res.status_code==200):\n",
    "    print(\"Sucess!\")\n",
    "else:\n",
    "    print(\"Error : \",res.status_code)"
   ]
  },
  {
   "cell_type": "code",
   "execution_count": 4,
   "id": "474a94ec-d359-4e63-858e-ee1d6da15d8b",
   "metadata": {},
   "outputs": [],
   "source": [
    "with open(\"html/fake_pythonjob.html\", \"w\", encoding=\"utf 8\") as f:\n",
    "    f.write(res.text)"
   ]
  },
  {
   "cell_type": "markdown",
   "id": "782d96fa-7d62-402b-ab5b-d4b2b7754934",
   "metadata": {},
   "source": [
    "# Reading downloaded Data"
   ]
  },
  {
   "cell_type": "code",
   "execution_count": 6,
   "id": "1b1230ad-2492-445f-a937-1fdedbb8beec",
   "metadata": {},
   "outputs": [],
   "source": [
    "with open(\"html/fake_pythonjob.html\") as f:\n",
    "    content = f.read()"
   ]
  },
  {
   "cell_type": "code",
   "execution_count": 7,
   "id": "d3cf1e6a-1c7e-40eb-a315-77b1bacaa75e",
   "metadata": {},
   "outputs": [
    {
     "name": "stderr",
     "output_type": "stream",
     "text": [
      "ERROR: Could not find a version that satisfies the requirement beautifullsoup4 (from versions: none)\n",
      "\n",
      "[notice] A new release of pip is available: 25.0.1 -> 25.1.1\n",
      "[notice] To update, run: python.exe -m pip install --upgrade pip\n",
      "ERROR: No matching distribution found for beautifullsoup4\n"
     ]
    }
   ],
   "source": [
    "!pip install beautifullsoup4 lxml"
   ]
  },
  {
   "cell_type": "code",
   "execution_count": 9,
   "id": "d9f6845f-30d9-4d07-bf34-e8ee88c46db3",
   "metadata": {},
   "outputs": [
    {
     "name": "stdout",
     "output_type": "stream",
     "text": [
      "Requirement already satisfied: pip in c:\\users\\naik siddhesh\\appdata\\local\\programs\\python\\python313\\lib\\site-packages (25.0.1)\n",
      "Collecting pip\n",
      "  Downloading pip-25.1.1-py3-none-any.whl.metadata (3.6 kB)\n",
      "Downloading pip-25.1.1-py3-none-any.whl (1.8 MB)\n",
      "   ---------------------------------------- 0.0/1.8 MB ? eta -:--:--\n",
      "   ----------- ---------------------------- 0.5/1.8 MB 8.2 MB/s eta 0:00:01\n",
      "   ---------------------------------------- 1.8/1.8 MB 6.3 MB/s eta 0:00:00\n",
      "Installing collected packages: pip\n",
      "  Attempting uninstall: pip\n",
      "    Found existing installation: pip 25.0.1\n",
      "    Uninstalling pip-25.0.1:\n",
      "      Successfully uninstalled pip-25.0.1\n",
      "Successfully installed pip-25.1.1\n",
      "Note: you may need to restart the kernel to use updated packages.\n"
     ]
    }
   ],
   "source": [
    "pip install --upgrade pip"
   ]
  },
  {
   "cell_type": "code",
   "execution_count": 11,
   "id": "c899b348-d722-4a0b-abb0-044de51e1c20",
   "metadata": {},
   "outputs": [
    {
     "name": "stdout",
     "output_type": "stream",
     "text": [
      "Requirement already satisfied: beautifulsoup4 in c:\\users\\naik siddhesh\\appdata\\local\\programs\\python\\python313\\lib\\site-packages (4.13.4)\n",
      "Requirement already satisfied: lxml in c:\\users\\naik siddhesh\\appdata\\local\\programs\\python\\python313\\lib\\site-packages (5.4.0)\n",
      "Requirement already satisfied: soupsieve>1.2 in c:\\users\\naik siddhesh\\appdata\\local\\programs\\python\\python313\\lib\\site-packages (from beautifulsoup4) (2.7)\n",
      "Requirement already satisfied: typing-extensions>=4.0.0 in c:\\users\\naik siddhesh\\appdata\\local\\programs\\python\\python313\\lib\\site-packages (from beautifulsoup4) (4.13.2)\n"
     ]
    }
   ],
   "source": [
    "!pip install beautifulsoup4 lxml"
   ]
  },
  {
   "cell_type": "code",
   "execution_count": 14,
   "id": "aff61593-894d-49d0-8092-f3116c302525",
   "metadata": {},
   "outputs": [],
   "source": [
    "from bs4 import BeautifulSoup"
   ]
  },
  {
   "cell_type": "code",
   "execution_count": 15,
   "id": "06b9aff7-c7fd-42b6-8743-93180279833f",
   "metadata": {},
   "outputs": [],
   "source": [
    "soup = BeautifulSoup(content, \"html.parser\")"
   ]
  },
  {
   "cell_type": "code",
   "execution_count": 61,
   "id": "d632639a-69a2-4ce2-99cf-a582a61166f6",
   "metadata": {},
   "outputs": [],
   "source": [
    "data_group = soup.find_all('div', class_=\"card-content\")"
   ]
  },
  {
   "cell_type": "code",
   "execution_count": 68,
   "id": "d81b5a05-69b6-478d-aa9d-96554318fda5",
   "metadata": {},
   "outputs": [],
   "source": [
    "data = []\n",
    "for dt in data_group:\n",
    "    title_tag = dt.find('h2', class_=\"title is-5\")\n",
    "    title = title_tag.get_text()\n",
    "    location_tag = dt.find('p', class_=\"location\")\n",
    "    location = location_tag.get_text().strip()\n",
    "\n",
    "    data.append([title, location])"
   ]
  },
  {
   "cell_type": "code",
   "execution_count": 69,
   "id": "3bd64476-0031-4550-aa47-309d280a443a",
   "metadata": {},
   "outputs": [
    {
     "data": {
      "text/plain": [
       "[['Senior Python Developer', 'Stewartbury, AA'],\n",
       " ['Energy engineer', 'Christopherville, AA'],\n",
       " ['Legal executive', 'Port Ericaburgh, AA'],\n",
       " ['Fitness centre manager', 'East Seanview, AP'],\n",
       " ['Product manager', 'North Jamieview, AP'],\n",
       " ['Medical technical officer', 'Davidville, AP'],\n",
       " ['Physiological scientist', 'South Christopher, AE'],\n",
       " ['Textile designer', 'Port Jonathan, AE'],\n",
       " ['Television floor manager', 'Osbornetown, AE'],\n",
       " ['Waste management officer', 'Scotttown, AP'],\n",
       " ['Software Engineer (Python)', 'Ericberg, AE'],\n",
       " ['Interpreter', 'Ramireztown, AE'],\n",
       " ['Architect', 'Figueroaview, AA'],\n",
       " ['Meteorologist', 'Kelseystad, AA'],\n",
       " ['Audiological scientist', 'Williamsburgh, AE'],\n",
       " ['English as a second language teacher', 'Mitchellburgh, AE'],\n",
       " ['Surgeon', 'West Jessicabury, AA'],\n",
       " ['Equities trader', 'Maloneshire, AE'],\n",
       " ['Newspaper journalist', 'Johnsonton, AA'],\n",
       " ['Materials engineer', 'South Davidtown, AP'],\n",
       " ['Python Programmer (Entry-Level)', 'Port Sara, AE'],\n",
       " ['Product/process development scientist', 'Marktown, AA'],\n",
       " ['Scientist, research (maths)', 'Laurenland, AE'],\n",
       " ['Ecologist', 'Lauraton, AP'],\n",
       " ['Materials engineer', 'South Tammyberg, AP'],\n",
       " ['Historic buildings inspector/conservation officer',\n",
       "  'North Brandonville, AP'],\n",
       " ['Data scientist', 'Port Robertfurt, AA'],\n",
       " ['Psychiatrist', 'Burnettbury, AE'],\n",
       " ['Structural engineer', 'Herbertside, AA'],\n",
       " ['Immigration officer', 'Christopherport, AP'],\n",
       " ['Python Programmer (Entry-Level)', 'West Victor, AE'],\n",
       " ['Neurosurgeon', 'Port Aaron, AP'],\n",
       " ['Broadcast engineer', 'Loribury, AA'],\n",
       " ['Make', 'Angelastad, AP'],\n",
       " ['Nurse, adult', 'Larrytown, AE'],\n",
       " ['Air broker', 'West Colin, AP'],\n",
       " ['Editor, film/video', 'West Stephanie, AP'],\n",
       " ['Production assistant, radio', 'Laurentown, AP'],\n",
       " ['Engineer, communications', 'Wrightberg, AP'],\n",
       " ['Sales executive', 'Alberttown, AE'],\n",
       " ['Software Developer (Python)', 'Brockburgh, AE'],\n",
       " ['Futures trader', 'North Jason, AE'],\n",
       " ['Tour manager', 'Arnoldhaven, AE'],\n",
       " ['Cytogeneticist', 'Lake Destiny, AP'],\n",
       " ['Designer, multimedia', 'South Timothyburgh, AP'],\n",
       " ['Trade union research officer', 'New Jimmyton, AE'],\n",
       " ['Chemist, analytical', 'New Lucasbury, AP'],\n",
       " ['Programmer, multimedia', 'Port Cory, AE'],\n",
       " ['Engineer, broadcasting (operations)', 'Gileston, AA'],\n",
       " ['Teacher, primary school', 'Cindyshire, AA'],\n",
       " ['Python Developer', 'East Michaelfort, AA'],\n",
       " ['Manufacturing systems engineer', 'Joybury, AE'],\n",
       " ['Producer, television/film/video', 'Emmatown, AE'],\n",
       " ['Scientist, forensic', 'Colehaven, AP'],\n",
       " ['Bonds trader', 'Port Coryton, AE'],\n",
       " ['Editorial assistant', 'Amyborough, AA'],\n",
       " ['Photographer', 'Reynoldsville, AA'],\n",
       " ['Retail banker', 'Port Billy, AP'],\n",
       " ['Jewellery designer', 'Adamburgh, AA'],\n",
       " ['Ophthalmologist', 'Wilsonmouth, AA'],\n",
       " ['Back-End Web Developer (Python, Django)', 'South Kimberly, AA'],\n",
       " ['Licensed conveyancer', 'Benjaminland, AP'],\n",
       " ['Futures trader', 'Zacharyport, AA'],\n",
       " ['Counselling psychologist', 'Port Devonville, AE'],\n",
       " ['Insurance underwriter', 'East Thomas, AE'],\n",
       " ['Engineer, automotive', 'New Jeffrey, AP'],\n",
       " ['Producer, radio', 'Davidside, AA'],\n",
       " ['Dispensing optician', 'Jamesville, AA'],\n",
       " ['Designer, fashion/clothing', 'New Kelly, AP'],\n",
       " ['Chartered loss adjuster', 'Lake Antonio, AA'],\n",
       " ['Back-End Web Developer (Python, Django)', 'New Elizabethside, AA'],\n",
       " ['Forest/woodland manager', 'Millsbury, AE'],\n",
       " ['Clinical cytogeneticist', 'Lloydton, AP'],\n",
       " ['Print production planner', 'Port Jeremy, AA'],\n",
       " ['Systems developer', 'New Elizabethtown, AA'],\n",
       " ['Graphic designer', 'Charlesstad, AE'],\n",
       " ['Writer', 'Josephbury, AE'],\n",
       " ['Field seismologist', 'Seanfurt, AA'],\n",
       " ['Chief Strategy Officer', 'Williambury, AA'],\n",
       " ['Air cabin crew', 'South Jorgeside, AP'],\n",
       " ['Python Programmer (Entry-Level)', 'Robertborough, AP'],\n",
       " ['Warden/ranger', 'South Saratown, AP'],\n",
       " ['Sports therapist', 'Hullview, AA'],\n",
       " ['Arts development officer', 'Philipland, AP'],\n",
       " ['Printmaker', 'North Patty, AE'],\n",
       " ['Health and safety adviser', 'North Stephen, AE'],\n",
       " ['Manufacturing systems engineer', 'Stevensland, AP'],\n",
       " ['Programmer, applications', 'Reyesstad, AE'],\n",
       " ['Medical physicist', 'Bellberg, AP'],\n",
       " ['Media planner', 'North Johnland, AE'],\n",
       " ['Software Developer (Python)', 'Martinezburgh, AE'],\n",
       " ['Surveyor, land/geomatics', 'Joshuatown, AE'],\n",
       " ['Legal executive', 'West Ericstad, AA'],\n",
       " ['Librarian, academic', 'Tuckertown, AE'],\n",
       " ['Barrister', 'Perezton, AE'],\n",
       " ['Museum/gallery exhibitions officer', 'Lake Abigail, AE'],\n",
       " ['Radiographer, diagnostic', 'Jacobshire, AP'],\n",
       " ['Database administrator', 'Port Susan, AE'],\n",
       " ['Furniture designer', 'North Tiffany, AA'],\n",
       " ['Ship broker', 'Michelleville, AP']]"
      ]
     },
     "execution_count": 69,
     "metadata": {},
     "output_type": "execute_result"
    }
   ],
   "source": [
    "data"
   ]
  },
  {
   "cell_type": "code",
   "execution_count": 72,
   "id": "a7a94a4b-5fea-4f25-8e1d-1f586e802551",
   "metadata": {},
   "outputs": [],
   "source": [
    "import pandas as pd"
   ]
  },
  {
   "cell_type": "code",
   "execution_count": 79,
   "id": "c261a7d3-905e-4645-afca-58d4144d1758",
   "metadata": {},
   "outputs": [],
   "source": [
    "df = pd.DataFrame(data, columns=[\"Job Role\",\"Location\"])"
   ]
  },
  {
   "cell_type": "code",
   "execution_count": 80,
   "id": "ebfa622a-c5f9-43ec-81cb-a02dc5b220e6",
   "metadata": {},
   "outputs": [
    {
     "data": {
      "text/html": [
       "<div>\n",
       "<style scoped>\n",
       "    .dataframe tbody tr th:only-of-type {\n",
       "        vertical-align: middle;\n",
       "    }\n",
       "\n",
       "    .dataframe tbody tr th {\n",
       "        vertical-align: top;\n",
       "    }\n",
       "\n",
       "    .dataframe thead th {\n",
       "        text-align: right;\n",
       "    }\n",
       "</style>\n",
       "<table border=\"1\" class=\"dataframe\">\n",
       "  <thead>\n",
       "    <tr style=\"text-align: right;\">\n",
       "      <th></th>\n",
       "      <th>Job Role</th>\n",
       "      <th>Location</th>\n",
       "    </tr>\n",
       "  </thead>\n",
       "  <tbody>\n",
       "    <tr>\n",
       "      <th>0</th>\n",
       "      <td>Senior Python Developer</td>\n",
       "      <td>Stewartbury, AA</td>\n",
       "    </tr>\n",
       "    <tr>\n",
       "      <th>1</th>\n",
       "      <td>Energy engineer</td>\n",
       "      <td>Christopherville, AA</td>\n",
       "    </tr>\n",
       "    <tr>\n",
       "      <th>2</th>\n",
       "      <td>Legal executive</td>\n",
       "      <td>Port Ericaburgh, AA</td>\n",
       "    </tr>\n",
       "    <tr>\n",
       "      <th>3</th>\n",
       "      <td>Fitness centre manager</td>\n",
       "      <td>East Seanview, AP</td>\n",
       "    </tr>\n",
       "    <tr>\n",
       "      <th>4</th>\n",
       "      <td>Product manager</td>\n",
       "      <td>North Jamieview, AP</td>\n",
       "    </tr>\n",
       "    <tr>\n",
       "      <th>...</th>\n",
       "      <td>...</td>\n",
       "      <td>...</td>\n",
       "    </tr>\n",
       "    <tr>\n",
       "      <th>95</th>\n",
       "      <td>Museum/gallery exhibitions officer</td>\n",
       "      <td>Lake Abigail, AE</td>\n",
       "    </tr>\n",
       "    <tr>\n",
       "      <th>96</th>\n",
       "      <td>Radiographer, diagnostic</td>\n",
       "      <td>Jacobshire, AP</td>\n",
       "    </tr>\n",
       "    <tr>\n",
       "      <th>97</th>\n",
       "      <td>Database administrator</td>\n",
       "      <td>Port Susan, AE</td>\n",
       "    </tr>\n",
       "    <tr>\n",
       "      <th>98</th>\n",
       "      <td>Furniture designer</td>\n",
       "      <td>North Tiffany, AA</td>\n",
       "    </tr>\n",
       "    <tr>\n",
       "      <th>99</th>\n",
       "      <td>Ship broker</td>\n",
       "      <td>Michelleville, AP</td>\n",
       "    </tr>\n",
       "  </tbody>\n",
       "</table>\n",
       "<p>100 rows × 2 columns</p>\n",
       "</div>"
      ],
      "text/plain": [
       "                              Job Role              Location\n",
       "0              Senior Python Developer       Stewartbury, AA\n",
       "1                      Energy engineer  Christopherville, AA\n",
       "2                      Legal executive   Port Ericaburgh, AA\n",
       "3               Fitness centre manager     East Seanview, AP\n",
       "4                      Product manager   North Jamieview, AP\n",
       "..                                 ...                   ...\n",
       "95  Museum/gallery exhibitions officer      Lake Abigail, AE\n",
       "96            Radiographer, diagnostic        Jacobshire, AP\n",
       "97              Database administrator        Port Susan, AE\n",
       "98                  Furniture designer     North Tiffany, AA\n",
       "99                         Ship broker     Michelleville, AP\n",
       "\n",
       "[100 rows x 2 columns]"
      ]
     },
     "execution_count": 80,
     "metadata": {},
     "output_type": "execute_result"
    }
   ],
   "source": [
    "df"
   ]
  },
  {
   "cell_type": "code",
   "execution_count": 81,
   "id": "cab4661c-fd34-414f-bda7-56a583d3a858",
   "metadata": {},
   "outputs": [],
   "source": [
    "df.to_csv(\"web_scrapping.csv\", index=False)"
   ]
  },
  {
   "cell_type": "code",
   "execution_count": null,
   "id": "ebee7687-44af-4ea4-b77a-e6ccff8129f2",
   "metadata": {},
   "outputs": [],
   "source": []
  }
 ],
 "metadata": {
  "kernelspec": {
   "display_name": "Python 3 (ipykernel)",
   "language": "python",
   "name": "python3"
  },
  "language_info": {
   "codemirror_mode": {
    "name": "ipython",
    "version": 3
   },
   "file_extension": ".py",
   "mimetype": "text/x-python",
   "name": "python",
   "nbconvert_exporter": "python",
   "pygments_lexer": "ipython3",
   "version": "3.13.3"
  }
 },
 "nbformat": 4,
 "nbformat_minor": 5
}
