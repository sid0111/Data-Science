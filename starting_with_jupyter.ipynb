{
 "cells": [
  {
   "cell_type": "markdown",
   "id": "71d0b79a-ac0d-4e86-b06b-60607660bb8b",
   "metadata": {},
   "source": [
    "#Welcome to Python"
   ]
  },
  {
   "cell_type": "markdown",
   "id": "176a0494-1727-47ce-b361-9e5b53a0c665",
   "metadata": {},
   "source": [
    "This notebook provides an overview of data analysis using Python.\n",
    "\n"
   ]
  },
  {
   "cell_type": "markdown",
   "id": "42e4462b-f64a-40ab-be44-08bcb9cc7107",
   "metadata": {},
   "source": [
    "This notebook provides an overview of programming languages used in Data Science.\n",
    "\n",
    "1. Python  \n",
    "2. R  \n",
    "3. SQL  \n",
    "4. Julia  \n",
    "5. Scala\n"
   ]
  },
  {
   "cell_type": "markdown",
   "id": "31e3384d-0c40-45a3-9a67-cc1c1f8ed82e",
   "metadata": {},
   "source": [
    "This notebook introduces some of the most popular libraries used in Data Science.\n",
    "\n",
    "1. NumPy  \n",
    "2. pandas  \n",
    "3. Matplotlib  \n",
    "4. Seaborn  \n",
    "5. Scikit-learn  \n",
    "6. TensorFlow  \n",
    "7. PyTorch\n"
   ]
  },
  {
   "cell_type": "markdown",
   "id": "516cc1a4-741c-47ed-8706-77f24bcb0732",
   "metadata": {},
   "source": [
    "| Tool Name     | Description                               |\n",
    "|---------------|-------------------------------------------|\n",
    "| Jupyter       | Interactive notebooks for coding and data visualization |\n",
    "| RStudio       | IDE for R programming and statistical analysis |\n",
    "| Apache Spark  | Big data processing and analytics engine  |\n",
    "| Tableau       | Data visualization and business intelligence tool |\n",
    "| Power BI      | Interactive data visualization by Microsoft |\n",
    "| KNIME         | Open-source platform for data analytics   |\n",
    "| Google Colab  | Cloud-based Jupyter notebook environment  |\n"
   ]
  },
  {
   "cell_type": "markdown",
   "id": "9790973f-99ec-4371-9a55-a49a5df57469",
   "metadata": {},
   "source": [
    "This section demonstrates a few examples of basic arithmetic expressions used in programming.\n"
   ]
  },
  {
   "cell_type": "code",
   "execution_count": 2,
   "id": "a8bac4e7-b37c-4875-87dc-613b6a7dcc91",
   "metadata": {},
   "outputs": [
    {
     "name": "stdout",
     "output_type": "stream",
     "text": [
      "Multiplication: 50\n",
      "Addition: 15\n"
     ]
    }
   ],
   "source": [
    "a = 10\n",
    "b = 5\n",
    "\n",
    "multiplication = a * b\n",
    "addition = a + b\n",
    "\n",
    "print(\"Multiplication:\", multiplication)\n",
    "print(\"Addition:\", addition)\n"
   ]
  },
  {
   "cell_type": "code",
   "execution_count": 3,
   "id": "bebb9236-e7a3-43e5-990f-fb14729e4233",
   "metadata": {},
   "outputs": [
    {
     "name": "stdout",
     "output_type": "stream",
     "text": [
      "150 minutes is equal to 2.5 hours\n"
     ]
    }
   ],
   "source": [
    "minutes = 150\n",
    "hours = minutes / 60\n",
    "\n",
    "print(f\"{minutes} minutes is equal to {hours} hours\")\n"
   ]
  },
  {
   "cell_type": "markdown",
   "id": "309d85f0-c785-4ba0-a929-2fd3bfbf6bcc",
   "metadata": {},
   "source": [
    "This section highlights key concepts to understand before starting with Data Science:\n",
    "\n",
    "- Statistics  \n",
    "- Programming  \n",
    "- Data Visualization  \n",
    "- Machine Learning  \n",
    "- Data Cleaning\n"
   ]
  },
  {
   "cell_type": "markdown",
   "id": "71c6392d-4c2c-47e0-8a1c-9769f2af3baf",
   "metadata": {},
   "source": [
    "**Author:** Naik Siddhesh"
   ]
  },
  {
   "cell_type": "code",
   "execution_count": null,
   "id": "44281232-c681-4e99-ae06-17facdc8d05c",
   "metadata": {},
   "outputs": [],
   "source": []
  }
 ],
 "metadata": {
  "kernelspec": {
   "display_name": "Python 3 (ipykernel)",
   "language": "python",
   "name": "python3"
  },
  "language_info": {
   "codemirror_mode": {
    "name": "ipython",
    "version": 3
   },
   "file_extension": ".py",
   "mimetype": "text/x-python",
   "name": "python",
   "nbconvert_exporter": "python",
   "pygments_lexer": "ipython3",
   "version": "3.13.3"
  }
 },
 "nbformat": 4,
 "nbformat_minor": 5
}
